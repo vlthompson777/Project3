{
 "cells": [
  {
   "cell_type": "code",
   "execution_count": 1,
   "metadata": {},
   "outputs": [],
   "source": [
    "import pandas as pd\n",
    "import numpy as np\n",
    "from sklearn.model_selection import train_test_split\n",
    "from sklearn.metrics import accuracy_score, recall_score\n",
    "from sklearn.linear_model import LogisticRegression\n",
    "from sklearn.tree import DecisionTreeClassifier\n",
    "from sklearn import tree"
   ]
  },
  {
   "cell_type": "code",
   "execution_count": 2,
   "metadata": {},
   "outputs": [],
   "source": [
    "cols = ['Age','Workclass','FinalWeight','Education','EduNumber','MaritalStatus','Job','Family','Race','Gender','CapitalGain','CapitalLoss','HrsWeek','NativeCountry','Salary']"
   ]
  },
  {
   "cell_type": "code",
   "execution_count": 135,
   "metadata": {},
   "outputs": [],
   "source": [
    "data_ =pd.read_csv(\"adult.data\",names=cols)\n",
    "test_ = pd.read_csv(\"adult.test\",names=cols)"
   ]
  },
  {
   "cell_type": "code",
   "execution_count": 136,
   "metadata": {},
   "outputs": [
    {
     "data": {
      "text/html": [
       "<div>\n",
       "<style scoped>\n",
       "    .dataframe tbody tr th:only-of-type {\n",
       "        vertical-align: middle;\n",
       "    }\n",
       "\n",
       "    .dataframe tbody tr th {\n",
       "        vertical-align: top;\n",
       "    }\n",
       "\n",
       "    .dataframe thead th {\n",
       "        text-align: right;\n",
       "    }\n",
       "</style>\n",
       "<table border=\"1\" class=\"dataframe\">\n",
       "  <thead>\n",
       "    <tr style=\"text-align: right;\">\n",
       "      <th></th>\n",
       "      <th>Age</th>\n",
       "      <th>Workclass</th>\n",
       "      <th>FinalWeight</th>\n",
       "      <th>Education</th>\n",
       "      <th>EduNumber</th>\n",
       "      <th>MaritalStatus</th>\n",
       "      <th>Job</th>\n",
       "      <th>Family</th>\n",
       "      <th>Race</th>\n",
       "      <th>Gender</th>\n",
       "      <th>CapitalGain</th>\n",
       "      <th>CapitalLoss</th>\n",
       "      <th>HrsWeek</th>\n",
       "      <th>NativeCountry</th>\n",
       "      <th>Salary</th>\n",
       "    </tr>\n",
       "  </thead>\n",
       "  <tbody>\n",
       "    <tr>\n",
       "      <th>32556</th>\n",
       "      <td>27</td>\n",
       "      <td>Private</td>\n",
       "      <td>257302</td>\n",
       "      <td>Assoc-acdm</td>\n",
       "      <td>12</td>\n",
       "      <td>Married-civ-spouse</td>\n",
       "      <td>Tech-support</td>\n",
       "      <td>Wife</td>\n",
       "      <td>White</td>\n",
       "      <td>Female</td>\n",
       "      <td>0</td>\n",
       "      <td>0</td>\n",
       "      <td>38</td>\n",
       "      <td>United-States</td>\n",
       "      <td>&lt;=50K</td>\n",
       "    </tr>\n",
       "    <tr>\n",
       "      <th>32557</th>\n",
       "      <td>40</td>\n",
       "      <td>Private</td>\n",
       "      <td>154374</td>\n",
       "      <td>HS-grad</td>\n",
       "      <td>9</td>\n",
       "      <td>Married-civ-spouse</td>\n",
       "      <td>Machine-op-inspct</td>\n",
       "      <td>Husband</td>\n",
       "      <td>White</td>\n",
       "      <td>Male</td>\n",
       "      <td>0</td>\n",
       "      <td>0</td>\n",
       "      <td>40</td>\n",
       "      <td>United-States</td>\n",
       "      <td>&gt;50K</td>\n",
       "    </tr>\n",
       "    <tr>\n",
       "      <th>32558</th>\n",
       "      <td>58</td>\n",
       "      <td>Private</td>\n",
       "      <td>151910</td>\n",
       "      <td>HS-grad</td>\n",
       "      <td>9</td>\n",
       "      <td>Widowed</td>\n",
       "      <td>Adm-clerical</td>\n",
       "      <td>Unmarried</td>\n",
       "      <td>White</td>\n",
       "      <td>Female</td>\n",
       "      <td>0</td>\n",
       "      <td>0</td>\n",
       "      <td>40</td>\n",
       "      <td>United-States</td>\n",
       "      <td>&lt;=50K</td>\n",
       "    </tr>\n",
       "    <tr>\n",
       "      <th>32559</th>\n",
       "      <td>22</td>\n",
       "      <td>Private</td>\n",
       "      <td>201490</td>\n",
       "      <td>HS-grad</td>\n",
       "      <td>9</td>\n",
       "      <td>Never-married</td>\n",
       "      <td>Adm-clerical</td>\n",
       "      <td>Own-child</td>\n",
       "      <td>White</td>\n",
       "      <td>Male</td>\n",
       "      <td>0</td>\n",
       "      <td>0</td>\n",
       "      <td>20</td>\n",
       "      <td>United-States</td>\n",
       "      <td>&lt;=50K</td>\n",
       "    </tr>\n",
       "    <tr>\n",
       "      <th>32560</th>\n",
       "      <td>52</td>\n",
       "      <td>Self-emp-inc</td>\n",
       "      <td>287927</td>\n",
       "      <td>HS-grad</td>\n",
       "      <td>9</td>\n",
       "      <td>Married-civ-spouse</td>\n",
       "      <td>Exec-managerial</td>\n",
       "      <td>Wife</td>\n",
       "      <td>White</td>\n",
       "      <td>Female</td>\n",
       "      <td>15024</td>\n",
       "      <td>0</td>\n",
       "      <td>40</td>\n",
       "      <td>United-States</td>\n",
       "      <td>&gt;50K</td>\n",
       "    </tr>\n",
       "  </tbody>\n",
       "</table>\n",
       "</div>"
      ],
      "text/plain": [
       "       Age      Workclass  FinalWeight    Education  EduNumber  \\\n",
       "32556   27        Private       257302   Assoc-acdm         12   \n",
       "32557   40        Private       154374      HS-grad          9   \n",
       "32558   58        Private       151910      HS-grad          9   \n",
       "32559   22        Private       201490      HS-grad          9   \n",
       "32560   52   Self-emp-inc       287927      HS-grad          9   \n",
       "\n",
       "             MaritalStatus                 Job      Family    Race   Gender  \\\n",
       "32556   Married-civ-spouse        Tech-support        Wife   White   Female   \n",
       "32557   Married-civ-spouse   Machine-op-inspct     Husband   White     Male   \n",
       "32558              Widowed        Adm-clerical   Unmarried   White   Female   \n",
       "32559        Never-married        Adm-clerical   Own-child   White     Male   \n",
       "32560   Married-civ-spouse     Exec-managerial        Wife   White   Female   \n",
       "\n",
       "       CapitalGain  CapitalLoss  HrsWeek   NativeCountry  Salary  \n",
       "32556            0            0       38   United-States   <=50K  \n",
       "32557            0            0       40   United-States    >50K  \n",
       "32558            0            0       40   United-States   <=50K  \n",
       "32559            0            0       20   United-States   <=50K  \n",
       "32560        15024            0       40   United-States    >50K  "
      ]
     },
     "execution_count": 136,
     "metadata": {},
     "output_type": "execute_result"
    }
   ],
   "source": [
    "data_.tail()"
   ]
  },
  {
   "cell_type": "code",
   "execution_count": 137,
   "metadata": {},
   "outputs": [
    {
     "data": {
      "text/plain": [
       "(7841,)"
      ]
     },
     "execution_count": 137,
     "metadata": {},
     "output_type": "execute_result"
    }
   ],
   "source": [
    "data_.loc[data_.Salary == \" >50K\",\"CapitalGain\"].shape"
   ]
  },
  {
   "cell_type": "code",
   "execution_count": 138,
   "metadata": {},
   "outputs": [
    {
     "data": {
      "text/plain": [
       "(24720,)"
      ]
     },
     "execution_count": 138,
     "metadata": {},
     "output_type": "execute_result"
    }
   ],
   "source": [
    "data_.loc[data_.Salary != \" >50K\",\"CapitalGain\"].shape"
   ]
  },
  {
   "cell_type": "code",
   "execution_count": 139,
   "metadata": {},
   "outputs": [
    {
     "data": {
      "text/html": [
       "<div>\n",
       "<style scoped>\n",
       "    .dataframe tbody tr th:only-of-type {\n",
       "        vertical-align: middle;\n",
       "    }\n",
       "\n",
       "    .dataframe tbody tr th {\n",
       "        vertical-align: top;\n",
       "    }\n",
       "\n",
       "    .dataframe thead th {\n",
       "        text-align: right;\n",
       "    }\n",
       "</style>\n",
       "<table border=\"1\" class=\"dataframe\">\n",
       "  <thead>\n",
       "    <tr style=\"text-align: right;\">\n",
       "      <th></th>\n",
       "      <th>Age</th>\n",
       "      <th>Workclass</th>\n",
       "      <th>FinalWeight</th>\n",
       "      <th>Education</th>\n",
       "      <th>EduNumber</th>\n",
       "      <th>MaritalStatus</th>\n",
       "      <th>Job</th>\n",
       "      <th>Family</th>\n",
       "      <th>Race</th>\n",
       "      <th>Gender</th>\n",
       "      <th>CapitalGain</th>\n",
       "      <th>CapitalLoss</th>\n",
       "      <th>HrsWeek</th>\n",
       "      <th>NativeCountry</th>\n",
       "      <th>Salary</th>\n",
       "    </tr>\n",
       "  </thead>\n",
       "  <tbody>\n",
       "    <tr>\n",
       "      <th>0</th>\n",
       "      <td>|1x3 Cross validator</td>\n",
       "      <td>NaN</td>\n",
       "      <td>NaN</td>\n",
       "      <td>NaN</td>\n",
       "      <td>NaN</td>\n",
       "      <td>NaN</td>\n",
       "      <td>NaN</td>\n",
       "      <td>NaN</td>\n",
       "      <td>NaN</td>\n",
       "      <td>NaN</td>\n",
       "      <td>NaN</td>\n",
       "      <td>NaN</td>\n",
       "      <td>NaN</td>\n",
       "      <td>NaN</td>\n",
       "      <td>NaN</td>\n",
       "    </tr>\n",
       "    <tr>\n",
       "      <th>1</th>\n",
       "      <td>25</td>\n",
       "      <td>Private</td>\n",
       "      <td>226802.0</td>\n",
       "      <td>11th</td>\n",
       "      <td>7.0</td>\n",
       "      <td>Never-married</td>\n",
       "      <td>Machine-op-inspct</td>\n",
       "      <td>Own-child</td>\n",
       "      <td>Black</td>\n",
       "      <td>Male</td>\n",
       "      <td>0.0</td>\n",
       "      <td>0.0</td>\n",
       "      <td>40.0</td>\n",
       "      <td>United-States</td>\n",
       "      <td>&lt;=50K.</td>\n",
       "    </tr>\n",
       "    <tr>\n",
       "      <th>2</th>\n",
       "      <td>38</td>\n",
       "      <td>Private</td>\n",
       "      <td>89814.0</td>\n",
       "      <td>HS-grad</td>\n",
       "      <td>9.0</td>\n",
       "      <td>Married-civ-spouse</td>\n",
       "      <td>Farming-fishing</td>\n",
       "      <td>Husband</td>\n",
       "      <td>White</td>\n",
       "      <td>Male</td>\n",
       "      <td>0.0</td>\n",
       "      <td>0.0</td>\n",
       "      <td>50.0</td>\n",
       "      <td>United-States</td>\n",
       "      <td>&lt;=50K.</td>\n",
       "    </tr>\n",
       "    <tr>\n",
       "      <th>3</th>\n",
       "      <td>28</td>\n",
       "      <td>Local-gov</td>\n",
       "      <td>336951.0</td>\n",
       "      <td>Assoc-acdm</td>\n",
       "      <td>12.0</td>\n",
       "      <td>Married-civ-spouse</td>\n",
       "      <td>Protective-serv</td>\n",
       "      <td>Husband</td>\n",
       "      <td>White</td>\n",
       "      <td>Male</td>\n",
       "      <td>0.0</td>\n",
       "      <td>0.0</td>\n",
       "      <td>40.0</td>\n",
       "      <td>United-States</td>\n",
       "      <td>&gt;50K.</td>\n",
       "    </tr>\n",
       "    <tr>\n",
       "      <th>4</th>\n",
       "      <td>44</td>\n",
       "      <td>Private</td>\n",
       "      <td>160323.0</td>\n",
       "      <td>Some-college</td>\n",
       "      <td>10.0</td>\n",
       "      <td>Married-civ-spouse</td>\n",
       "      <td>Machine-op-inspct</td>\n",
       "      <td>Husband</td>\n",
       "      <td>Black</td>\n",
       "      <td>Male</td>\n",
       "      <td>7688.0</td>\n",
       "      <td>0.0</td>\n",
       "      <td>40.0</td>\n",
       "      <td>United-States</td>\n",
       "      <td>&gt;50K.</td>\n",
       "    </tr>\n",
       "  </tbody>\n",
       "</table>\n",
       "</div>"
      ],
      "text/plain": [
       "                    Age   Workclass  FinalWeight      Education  EduNumber  \\\n",
       "0  |1x3 Cross validator         NaN          NaN            NaN        NaN   \n",
       "1                    25     Private     226802.0           11th        7.0   \n",
       "2                    38     Private      89814.0        HS-grad        9.0   \n",
       "3                    28   Local-gov     336951.0     Assoc-acdm       12.0   \n",
       "4                    44     Private     160323.0   Some-college       10.0   \n",
       "\n",
       "         MaritalStatus                 Job      Family    Race Gender  \\\n",
       "0                  NaN                 NaN         NaN     NaN    NaN   \n",
       "1        Never-married   Machine-op-inspct   Own-child   Black   Male   \n",
       "2   Married-civ-spouse     Farming-fishing     Husband   White   Male   \n",
       "3   Married-civ-spouse     Protective-serv     Husband   White   Male   \n",
       "4   Married-civ-spouse   Machine-op-inspct     Husband   Black   Male   \n",
       "\n",
       "   CapitalGain  CapitalLoss  HrsWeek   NativeCountry   Salary  \n",
       "0          NaN          NaN      NaN             NaN      NaN  \n",
       "1          0.0          0.0     40.0   United-States   <=50K.  \n",
       "2          0.0          0.0     50.0   United-States   <=50K.  \n",
       "3          0.0          0.0     40.0   United-States    >50K.  \n",
       "4       7688.0          0.0     40.0   United-States    >50K.  "
      ]
     },
     "execution_count": 139,
     "metadata": {},
     "output_type": "execute_result"
    }
   ],
   "source": [
    "test_.head()"
   ]
  },
  {
   "cell_type": "code",
   "execution_count": 140,
   "metadata": {},
   "outputs": [],
   "source": [
    "#drop first row with bad data\n",
    "test_.drop(0, inplace=True)\n",
    "test_.reset_index(drop=True,inplace=True)"
   ]
  },
  {
   "cell_type": "code",
   "execution_count": 141,
   "metadata": {},
   "outputs": [
    {
     "data": {
      "text/plain": [
       "Age              0\n",
       "Workclass        0\n",
       "FinalWeight      0\n",
       "Education        0\n",
       "EduNumber        0\n",
       "MaritalStatus    0\n",
       "Job              0\n",
       "Family           0\n",
       "Race             0\n",
       "Gender           0\n",
       "CapitalGain      0\n",
       "CapitalLoss      0\n",
       "HrsWeek          0\n",
       "NativeCountry    0\n",
       "Salary           0\n",
       "dtype: int64"
      ]
     },
     "execution_count": 141,
     "metadata": {},
     "output_type": "execute_result"
    }
   ],
   "source": [
    "data_.isnull().sum()"
   ]
  },
  {
   "cell_type": "code",
   "execution_count": 142,
   "metadata": {},
   "outputs": [],
   "source": [
    "#let's look at the data to see which are the important values"
   ]
  },
  {
   "cell_type": "code",
   "execution_count": 143,
   "metadata": {},
   "outputs": [],
   "source": [
    "data_['Education'] = data_['Education'].str.strip()"
   ]
  },
  {
   "cell_type": "code",
   "execution_count": 144,
   "metadata": {},
   "outputs": [
    {
     "data": {
      "text/plain": [
       "array(['Bachelors', 'HS-grad', '11th', 'Masters', '9th', 'Some-college',\n",
       "       'Assoc-acdm', 'Assoc-voc', '7th-8th', 'Doctorate', 'Prof-school',\n",
       "       '5th-6th', '10th', '1st-4th', 'Preschool', '12th'], dtype=object)"
      ]
     },
     "execution_count": 144,
     "metadata": {},
     "output_type": "execute_result"
    }
   ],
   "source": [
    "data_.Education.unique()"
   ]
  },
  {
   "cell_type": "code",
   "execution_count": 145,
   "metadata": {},
   "outputs": [
    {
     "data": {
      "text/plain": [
       "0.02945241239519671"
      ]
     },
     "execution_count": 145,
     "metadata": {},
     "output_type": "execute_result"
    }
   ],
   "source": [
    "data_.loc[(data_.Salary ==' >50K')&(data_.Education == 'Masters'),:].shape[0]/data_.shape[0]"
   ]
  },
  {
   "cell_type": "code",
   "execution_count": 146,
   "metadata": {},
   "outputs": [
    {
     "name": "stdout",
     "output_type": "stream",
     "text": [
      " State-gov  0.010841\n",
      " Self-emp-not-inc  0.022235\n",
      " Private  0.152422\n",
      " Federal-gov  0.011394\n",
      " Local-gov  0.018949\n",
      " ?  0.005866\n",
      " Self-emp-inc  0.019103\n",
      " Without-pay  0.000000\n",
      " Never-worked  0.000000\n"
     ]
    }
   ],
   "source": [
    "for p in data_.Workclass.unique():\n",
    "    print(p + \"  {0:.6f}\".format(data_.loc[(data_.Salary ==' >50K')&(data_.Workclass == p),:].shape[0]/data_.shape[0]))"
   ]
  },
  {
   "cell_type": "code",
   "execution_count": 147,
   "metadata": {},
   "outputs": [
    {
     "name": "stdout",
     "output_type": "stream",
     "text": [
      "Bachelors  0.068210\n",
      "HS-grad  0.051442\n",
      "11th  0.001843\n",
      "Masters  0.029452\n",
      "9th  0.000829\n",
      "Some-college  0.042597\n",
      "Assoc-acdm  0.008139\n",
      "Assoc-voc  0.011087\n",
      "7th-8th  0.001228\n",
      "Doctorate  0.009398\n",
      "Prof-school  0.012991\n",
      "5th-6th  0.000491\n",
      "10th  0.001904\n",
      "1st-4th  0.000184\n",
      "Preschool  0.000000\n",
      "12th  0.001013\n"
     ]
    }
   ],
   "source": [
    "for p in data_.Education.unique():\n",
    "    print(p + \"  {0:.6f}\".format(data_.loc[(data_.Salary ==' >50K')&(data_.Education == p),:].shape[0]/data_.shape[0]))"
   ]
  },
  {
   "cell_type": "code",
   "execution_count": 148,
   "metadata": {},
   "outputs": [
    {
     "name": "stdout",
     "output_type": "stream",
     "text": [
      " Never-married  0.015079\n",
      " Married-civ-spouse  0.205522\n",
      " Divorced  0.014219\n",
      " Married-spouse-absent  0.001044\n",
      " Separated  0.002027\n",
      " Married-AF-spouse  0.000307\n",
      " Widowed  0.002610\n"
     ]
    }
   ],
   "source": [
    "for p in data_.MaritalStatus.unique():\n",
    "    print(p + \"  {0:.6f}\".format(data_.loc[(data_.Salary ==' >50K')&(data_.MaritalStatus == p),:].shape[0]/data_.shape[0]))"
   ]
  },
  {
   "cell_type": "code",
   "execution_count": 16,
   "metadata": {},
   "outputs": [
    {
     "name": "stdout",
     "output_type": "stream",
     "text": [
      " Adm-clerical  0.015571\n",
      " Exec-managerial  0.060440\n",
      " Handlers-cleaners  0.002641\n",
      " Prof-specialty  0.057093\n",
      " Other-service  0.004207\n",
      " Sales  0.030189\n",
      " Craft-repair  0.028531\n",
      " Transport-moving  0.009828\n",
      " Farming-fishing  0.003532\n",
      " Machine-op-inspct  0.007678\n",
      " Tech-support  0.008691\n",
      " ?  0.005866\n",
      " Protective-serv  0.006480\n",
      " Armed-Forces  0.000031\n",
      " Priv-house-serv  0.000031\n"
     ]
    }
   ],
   "source": [
    "for p in data_.Job.unique():\n",
    "    print(p + \"  {0:.6f}\".format(data_.loc[(data_.Salary ==' >50K')&(data_.Job == p),:].shape[0]/data_.shape[0]))"
   ]
  },
  {
   "cell_type": "code",
   "execution_count": 17,
   "metadata": {},
   "outputs": [
    {
     "name": "stdout",
     "output_type": "stream",
     "text": [
      " Not-in-family  0.026289\n",
      " Husband  0.181751\n",
      " Wife  0.022880\n",
      " Own-child  0.002058\n",
      " Unmarried  0.006695\n",
      " Other-relative  0.001136\n"
     ]
    }
   ],
   "source": [
    "for p in data_.Family.unique():\n",
    "    print(p + \"  {0:.6f}\".format(data_.loc[(data_.Salary ==' >50K')&(data_.Family == p),:].shape[0]/data_.shape[0]))"
   ]
  },
  {
   "cell_type": "code",
   "execution_count": 18,
   "metadata": {},
   "outputs": [
    {
     "name": "stdout",
     "output_type": "stream",
     "text": [
      " Male  0.204601\n",
      " Female  0.036209\n"
     ]
    }
   ],
   "source": [
    "for p in data_.Gender.unique():\n",
    "    print(p + \"  {0:.6f}\".format(data_.loc[(data_.Salary ==' >50K')&(data_.Gender == p),:].shape[0]/data_.shape[0]))"
   ]
  },
  {
   "cell_type": "code",
   "execution_count": 19,
   "metadata": {},
   "outputs": [
    {
     "name": "stdout",
     "output_type": "stream",
     "text": [
      " White  0.218574\n",
      " Black  0.011885\n",
      " Asian-Pac-Islander  0.008476\n",
      " Amer-Indian-Eskimo  0.001106\n",
      " Other  0.000768\n"
     ]
    }
   ],
   "source": [
    "for p in data_.Race.unique():\n",
    "    print(p + \"  {0:.6f}\".format(data_.loc[(data_.Salary ==' >50K')&(data_.Race == p),:].shape[0]/data_.shape[0]))"
   ]
  },
  {
   "cell_type": "code",
   "execution_count": 20,
   "metadata": {},
   "outputs": [
    {
     "name": "stdout",
     "output_type": "stream",
     "text": [
      " United-States  0.220233\n",
      " Cuba  0.000768\n",
      " Jamaica  0.000307\n",
      " India  0.001228\n",
      " ?  0.004484\n",
      " Mexico  0.001013\n",
      " South  0.000491\n",
      " Puerto-Rico  0.000369\n",
      " Honduras  0.000031\n",
      " England  0.000921\n",
      " Canada  0.001198\n",
      " Germany  0.001351\n",
      " Iran  0.000553\n",
      " Philippines  0.001873\n",
      " Italy  0.000768\n",
      " Poland  0.000369\n",
      " Columbia  0.000061\n",
      " Cambodia  0.000215\n",
      " Thailand  0.000092\n",
      " Ecuador  0.000123\n",
      " Laos  0.000061\n",
      " Taiwan  0.000614\n",
      " Haiti  0.000123\n",
      " Portugal  0.000123\n",
      " Dominican-Republic  0.000061\n",
      " El-Salvador  0.000276\n",
      " France  0.000369\n",
      " Guatemala  0.000092\n",
      " China  0.000614\n",
      " Japan  0.000737\n",
      " Yugoslavia  0.000184\n",
      " Peru  0.000061\n",
      " Outlying-US(Guam-USVI-etc)  0.000000\n",
      " Scotland  0.000092\n",
      " Trinadad&Tobago  0.000061\n",
      " Greece  0.000246\n",
      " Nicaragua  0.000061\n",
      " Vietnam  0.000154\n",
      " Hong  0.000184\n",
      " Ireland  0.000154\n",
      " Hungary  0.000092\n",
      " Holand-Netherlands  0.000000\n"
     ]
    }
   ],
   "source": [
    "for p in data_.NativeCountry.unique():\n",
    "    print(p + \"  {0:.6f}\".format(data_.loc[(data_.Salary ==' >50K')&(data_.NativeCountry == p),:].shape[0]/data_.shape[0]))"
   ]
  },
  {
   "cell_type": "code",
   "execution_count": 21,
   "metadata": {},
   "outputs": [
    {
     "data": {
      "text/plain": [
       "'\\nLooking at the data lets look at all the factors that are >=0.10 or 10%\\nWorkclass.Private\\nWorkclass.Local-gov\\nMaritalStatus.Married-civ-spouse\\nFamily.Husband\\nGender.Male\\nRace.White\\nNativeCountry.United-States\\nEduClass.NoDegree\\nWorkRate.WorkALot\\nSo 9 factors are above 10%.  Seems like a good number for prediction.\\n'"
      ]
     },
     "execution_count": 21,
     "metadata": {},
     "output_type": "execute_result"
    }
   ],
   "source": [
    "'''\n",
    "Looking at the data lets look at all the factors that are >=0.10 or 10%\n",
    "Workclass.Private\n",
    "MaritalStatus.Married-civ-spouse\n",
    "Family.Husband\n",
    "Gender.Male\n",
    "Race.White\n",
    "NativeCountry.United-States\n",
    "So 6 factors are above 10%.  Seems like a good number for prediction.\n",
    "'''"
   ]
  },
  {
   "cell_type": "code",
   "execution_count": 22,
   "metadata": {},
   "outputs": [],
   "source": [
    "#for some reason the Age in test data is string so we'll have to cast to int\n",
    "test_.Age = pd.to_numeric(test_.Age, errors='coerce')"
   ]
  },
  {
   "cell_type": "code",
   "execution_count": 23,
   "metadata": {},
   "outputs": [
    {
     "data": {
      "text/html": [
       "<div>\n",
       "<style scoped>\n",
       "    .dataframe tbody tr th:only-of-type {\n",
       "        vertical-align: middle;\n",
       "    }\n",
       "\n",
       "    .dataframe tbody tr th {\n",
       "        vertical-align: top;\n",
       "    }\n",
       "\n",
       "    .dataframe thead th {\n",
       "        text-align: right;\n",
       "    }\n",
       "</style>\n",
       "<table border=\"1\" class=\"dataframe\">\n",
       "  <thead>\n",
       "    <tr style=\"text-align: right;\">\n",
       "      <th></th>\n",
       "      <th>Age</th>\n",
       "      <th>Workclass</th>\n",
       "      <th>FinalWeight</th>\n",
       "      <th>Education</th>\n",
       "      <th>EduNumber</th>\n",
       "      <th>MaritalStatus</th>\n",
       "      <th>Job</th>\n",
       "      <th>Family</th>\n",
       "      <th>Race</th>\n",
       "      <th>Gender</th>\n",
       "      <th>CapitalGain</th>\n",
       "      <th>CapitalLoss</th>\n",
       "      <th>HrsWeek</th>\n",
       "      <th>NativeCountry</th>\n",
       "      <th>Salary</th>\n",
       "    </tr>\n",
       "  </thead>\n",
       "  <tbody>\n",
       "    <tr>\n",
       "      <th>0</th>\n",
       "      <td>25</td>\n",
       "      <td>Private</td>\n",
       "      <td>226802.0</td>\n",
       "      <td>11th</td>\n",
       "      <td>7.0</td>\n",
       "      <td>Never-married</td>\n",
       "      <td>Machine-op-inspct</td>\n",
       "      <td>Own-child</td>\n",
       "      <td>Black</td>\n",
       "      <td>Male</td>\n",
       "      <td>0.0</td>\n",
       "      <td>0.0</td>\n",
       "      <td>40.0</td>\n",
       "      <td>United-States</td>\n",
       "      <td>&lt;=50K.</td>\n",
       "    </tr>\n",
       "    <tr>\n",
       "      <th>1</th>\n",
       "      <td>38</td>\n",
       "      <td>Private</td>\n",
       "      <td>89814.0</td>\n",
       "      <td>HS-grad</td>\n",
       "      <td>9.0</td>\n",
       "      <td>Married-civ-spouse</td>\n",
       "      <td>Farming-fishing</td>\n",
       "      <td>Husband</td>\n",
       "      <td>White</td>\n",
       "      <td>Male</td>\n",
       "      <td>0.0</td>\n",
       "      <td>0.0</td>\n",
       "      <td>50.0</td>\n",
       "      <td>United-States</td>\n",
       "      <td>&lt;=50K.</td>\n",
       "    </tr>\n",
       "    <tr>\n",
       "      <th>2</th>\n",
       "      <td>28</td>\n",
       "      <td>Local-gov</td>\n",
       "      <td>336951.0</td>\n",
       "      <td>Assoc-acdm</td>\n",
       "      <td>12.0</td>\n",
       "      <td>Married-civ-spouse</td>\n",
       "      <td>Protective-serv</td>\n",
       "      <td>Husband</td>\n",
       "      <td>White</td>\n",
       "      <td>Male</td>\n",
       "      <td>0.0</td>\n",
       "      <td>0.0</td>\n",
       "      <td>40.0</td>\n",
       "      <td>United-States</td>\n",
       "      <td>&gt;50K.</td>\n",
       "    </tr>\n",
       "    <tr>\n",
       "      <th>3</th>\n",
       "      <td>44</td>\n",
       "      <td>Private</td>\n",
       "      <td>160323.0</td>\n",
       "      <td>Some-college</td>\n",
       "      <td>10.0</td>\n",
       "      <td>Married-civ-spouse</td>\n",
       "      <td>Machine-op-inspct</td>\n",
       "      <td>Husband</td>\n",
       "      <td>Black</td>\n",
       "      <td>Male</td>\n",
       "      <td>7688.0</td>\n",
       "      <td>0.0</td>\n",
       "      <td>40.0</td>\n",
       "      <td>United-States</td>\n",
       "      <td>&gt;50K.</td>\n",
       "    </tr>\n",
       "    <tr>\n",
       "      <th>4</th>\n",
       "      <td>18</td>\n",
       "      <td>?</td>\n",
       "      <td>103497.0</td>\n",
       "      <td>Some-college</td>\n",
       "      <td>10.0</td>\n",
       "      <td>Never-married</td>\n",
       "      <td>?</td>\n",
       "      <td>Own-child</td>\n",
       "      <td>White</td>\n",
       "      <td>Female</td>\n",
       "      <td>0.0</td>\n",
       "      <td>0.0</td>\n",
       "      <td>30.0</td>\n",
       "      <td>United-States</td>\n",
       "      <td>&lt;=50K.</td>\n",
       "    </tr>\n",
       "  </tbody>\n",
       "</table>\n",
       "</div>"
      ],
      "text/plain": [
       "   Age   Workclass  FinalWeight      Education  EduNumber  \\\n",
       "0   25     Private     226802.0           11th        7.0   \n",
       "1   38     Private      89814.0        HS-grad        9.0   \n",
       "2   28   Local-gov     336951.0     Assoc-acdm       12.0   \n",
       "3   44     Private     160323.0   Some-college       10.0   \n",
       "4   18           ?     103497.0   Some-college       10.0   \n",
       "\n",
       "         MaritalStatus                 Job      Family    Race   Gender  \\\n",
       "0        Never-married   Machine-op-inspct   Own-child   Black     Male   \n",
       "1   Married-civ-spouse     Farming-fishing     Husband   White     Male   \n",
       "2   Married-civ-spouse     Protective-serv     Husband   White     Male   \n",
       "3   Married-civ-spouse   Machine-op-inspct     Husband   Black     Male   \n",
       "4        Never-married                   ?   Own-child   White   Female   \n",
       "\n",
       "   CapitalGain  CapitalLoss  HrsWeek   NativeCountry   Salary  \n",
       "0          0.0          0.0     40.0   United-States   <=50K.  \n",
       "1          0.0          0.0     50.0   United-States   <=50K.  \n",
       "2          0.0          0.0     40.0   United-States    >50K.  \n",
       "3       7688.0          0.0     40.0   United-States    >50K.  \n",
       "4          0.0          0.0     30.0   United-States   <=50K.  "
      ]
     },
     "execution_count": 23,
     "metadata": {},
     "output_type": "execute_result"
    }
   ],
   "source": [
    "test_.head()"
   ]
  },
  {
   "cell_type": "code",
   "execution_count": 24,
   "metadata": {},
   "outputs": [],
   "source": [
    "#Gender is the only column with only two values, so I'll pull that out and replace values with numbers.\n",
    "#Male =1, Female = 0\n",
    "dfGender=data_.Gender\n",
    "dfGender=dfGender.str.strip()\n",
    "dfGenTest=test_.Gender\n",
    "dfGenTest=dfGenTest.str.strip()\n",
    "ser1 = pd.Series(np.where(dfGender == 'Male', 1,0))\n",
    "ser2 = pd.Series(np.where(dfGenTest == 'Male', 1,0))\n",
    "dfGender = pd.DataFrame(data=ser1,columns=['Gender'])\n",
    "dfGenTest = pd.DataFrame(data=ser2, columns=['Gender'])"
   ]
  },
  {
   "cell_type": "code",
   "execution_count": 37,
   "metadata": {},
   "outputs": [],
   "source": [
    "data_.drop(\"Gender\",axis=1,inplace=True)\n",
    "test_.drop(\"Gender\",axis=1,inplace=True)"
   ]
  },
  {
   "cell_type": "code",
   "execution_count": 26,
   "metadata": {},
   "outputs": [
    {
     "data": {
      "text/html": [
       "<div>\n",
       "<style scoped>\n",
       "    .dataframe tbody tr th:only-of-type {\n",
       "        vertical-align: middle;\n",
       "    }\n",
       "\n",
       "    .dataframe tbody tr th {\n",
       "        vertical-align: top;\n",
       "    }\n",
       "\n",
       "    .dataframe thead th {\n",
       "        text-align: right;\n",
       "    }\n",
       "</style>\n",
       "<table border=\"1\" class=\"dataframe\">\n",
       "  <thead>\n",
       "    <tr style=\"text-align: right;\">\n",
       "      <th></th>\n",
       "      <th>Gender</th>\n",
       "    </tr>\n",
       "  </thead>\n",
       "  <tbody>\n",
       "    <tr>\n",
       "      <th>16276</th>\n",
       "      <td>0</td>\n",
       "    </tr>\n",
       "    <tr>\n",
       "      <th>16277</th>\n",
       "      <td>1</td>\n",
       "    </tr>\n",
       "    <tr>\n",
       "      <th>16278</th>\n",
       "      <td>1</td>\n",
       "    </tr>\n",
       "    <tr>\n",
       "      <th>16279</th>\n",
       "      <td>1</td>\n",
       "    </tr>\n",
       "    <tr>\n",
       "      <th>16280</th>\n",
       "      <td>1</td>\n",
       "    </tr>\n",
       "  </tbody>\n",
       "</table>\n",
       "</div>"
      ],
      "text/plain": [
       "       Gender\n",
       "16276       0\n",
       "16277       1\n",
       "16278       1\n",
       "16279       1\n",
       "16280       1"
      ]
     },
     "execution_count": 26,
     "metadata": {},
     "output_type": "execute_result"
    }
   ],
   "source": [
    "dfGenTest.tail()"
   ]
  },
  {
   "cell_type": "code",
   "execution_count": 25,
   "metadata": {},
   "outputs": [],
   "source": [
    "#handle Salary columns  <=50K =0 , >50 = 1\n",
    "dfSalary = data_.Salary.str.strip()\n",
    "dfSalTest = test_.Salary.str.strip()\n",
    "dfSalary = pd.Series(np.where(dfSalary == '<=50K', 0,1))\n",
    "dfSalTest = pd.Series(np.where(dfSalTest == '<=50K', 0,1))"
   ]
  },
  {
   "cell_type": "code",
   "execution_count": 27,
   "metadata": {},
   "outputs": [],
   "source": [
    "data_.drop('Salary',axis=1,inplace=True)\n",
    "test_.drop('Salary',axis=1,inplace=True)"
   ]
  },
  {
   "cell_type": "code",
   "execution_count": 38,
   "metadata": {},
   "outputs": [
    {
     "data": {
      "text/html": [
       "<div>\n",
       "<style scoped>\n",
       "    .dataframe tbody tr th:only-of-type {\n",
       "        vertical-align: middle;\n",
       "    }\n",
       "\n",
       "    .dataframe tbody tr th {\n",
       "        vertical-align: top;\n",
       "    }\n",
       "\n",
       "    .dataframe thead th {\n",
       "        text-align: right;\n",
       "    }\n",
       "</style>\n",
       "<table border=\"1\" class=\"dataframe\">\n",
       "  <thead>\n",
       "    <tr style=\"text-align: right;\">\n",
       "      <th></th>\n",
       "      <th>Age</th>\n",
       "      <th>Workclass</th>\n",
       "      <th>FinalWeight</th>\n",
       "      <th>Education</th>\n",
       "      <th>EduNumber</th>\n",
       "      <th>MaritalStatus</th>\n",
       "      <th>Job</th>\n",
       "      <th>Family</th>\n",
       "      <th>Race</th>\n",
       "      <th>CapitalGain</th>\n",
       "      <th>CapitalLoss</th>\n",
       "      <th>HrsWeek</th>\n",
       "      <th>NativeCountry</th>\n",
       "    </tr>\n",
       "  </thead>\n",
       "  <tbody>\n",
       "    <tr>\n",
       "      <th>0</th>\n",
       "      <td>39</td>\n",
       "      <td>State-gov</td>\n",
       "      <td>77516</td>\n",
       "      <td>Bachelors</td>\n",
       "      <td>13</td>\n",
       "      <td>Never-married</td>\n",
       "      <td>Adm-clerical</td>\n",
       "      <td>Not-in-family</td>\n",
       "      <td>White</td>\n",
       "      <td>2174</td>\n",
       "      <td>0</td>\n",
       "      <td>40</td>\n",
       "      <td>United-States</td>\n",
       "    </tr>\n",
       "    <tr>\n",
       "      <th>1</th>\n",
       "      <td>50</td>\n",
       "      <td>Self-emp-not-inc</td>\n",
       "      <td>83311</td>\n",
       "      <td>Bachelors</td>\n",
       "      <td>13</td>\n",
       "      <td>Married-civ-spouse</td>\n",
       "      <td>Exec-managerial</td>\n",
       "      <td>Husband</td>\n",
       "      <td>White</td>\n",
       "      <td>0</td>\n",
       "      <td>0</td>\n",
       "      <td>13</td>\n",
       "      <td>United-States</td>\n",
       "    </tr>\n",
       "    <tr>\n",
       "      <th>2</th>\n",
       "      <td>38</td>\n",
       "      <td>Private</td>\n",
       "      <td>215646</td>\n",
       "      <td>HS-grad</td>\n",
       "      <td>9</td>\n",
       "      <td>Divorced</td>\n",
       "      <td>Handlers-cleaners</td>\n",
       "      <td>Not-in-family</td>\n",
       "      <td>White</td>\n",
       "      <td>0</td>\n",
       "      <td>0</td>\n",
       "      <td>40</td>\n",
       "      <td>United-States</td>\n",
       "    </tr>\n",
       "    <tr>\n",
       "      <th>3</th>\n",
       "      <td>53</td>\n",
       "      <td>Private</td>\n",
       "      <td>234721</td>\n",
       "      <td>11th</td>\n",
       "      <td>7</td>\n",
       "      <td>Married-civ-spouse</td>\n",
       "      <td>Handlers-cleaners</td>\n",
       "      <td>Husband</td>\n",
       "      <td>Black</td>\n",
       "      <td>0</td>\n",
       "      <td>0</td>\n",
       "      <td>40</td>\n",
       "      <td>United-States</td>\n",
       "    </tr>\n",
       "    <tr>\n",
       "      <th>4</th>\n",
       "      <td>28</td>\n",
       "      <td>Private</td>\n",
       "      <td>338409</td>\n",
       "      <td>Bachelors</td>\n",
       "      <td>13</td>\n",
       "      <td>Married-civ-spouse</td>\n",
       "      <td>Prof-specialty</td>\n",
       "      <td>Wife</td>\n",
       "      <td>Black</td>\n",
       "      <td>0</td>\n",
       "      <td>0</td>\n",
       "      <td>40</td>\n",
       "      <td>Cuba</td>\n",
       "    </tr>\n",
       "  </tbody>\n",
       "</table>\n",
       "</div>"
      ],
      "text/plain": [
       "   Age          Workclass  FinalWeight  Education  EduNumber  \\\n",
       "0   39          State-gov        77516  Bachelors         13   \n",
       "1   50   Self-emp-not-inc        83311  Bachelors         13   \n",
       "2   38            Private       215646    HS-grad          9   \n",
       "3   53            Private       234721       11th          7   \n",
       "4   28            Private       338409  Bachelors         13   \n",
       "\n",
       "         MaritalStatus                 Job          Family    Race  \\\n",
       "0        Never-married        Adm-clerical   Not-in-family   White   \n",
       "1   Married-civ-spouse     Exec-managerial         Husband   White   \n",
       "2             Divorced   Handlers-cleaners   Not-in-family   White   \n",
       "3   Married-civ-spouse   Handlers-cleaners         Husband   Black   \n",
       "4   Married-civ-spouse      Prof-specialty            Wife   Black   \n",
       "\n",
       "   CapitalGain  CapitalLoss  HrsWeek   NativeCountry  \n",
       "0         2174            0       40   United-States  \n",
       "1            0            0       13   United-States  \n",
       "2            0            0       40   United-States  \n",
       "3            0            0       40   United-States  \n",
       "4            0            0       40            Cuba  "
      ]
     },
     "execution_count": 38,
     "metadata": {},
     "output_type": "execute_result"
    }
   ],
   "source": [
    "data_.head()"
   ]
  },
  {
   "cell_type": "code",
   "execution_count": 41,
   "metadata": {},
   "outputs": [],
   "source": [
    "Cat_cols = [i for i in data_.columns if type(data_[i][0])==str]\n",
    "CatTest_cols = [i for i in test_.columns if type(data_[i][0])==str]"
   ]
  },
  {
   "cell_type": "code",
   "execution_count": 42,
   "metadata": {},
   "outputs": [],
   "source": [
    "Num_cols = list(set(data_.columns.tolist())- set(Cat_cols))\n",
    "NumTest_cols = list(set(test_.columns.tolist())- set(CatTest_cols))"
   ]
  },
  {
   "cell_type": "code",
   "execution_count": 46,
   "metadata": {},
   "outputs": [
    {
     "data": {
      "text/html": [
       "<div>\n",
       "<style scoped>\n",
       "    .dataframe tbody tr th:only-of-type {\n",
       "        vertical-align: middle;\n",
       "    }\n",
       "\n",
       "    .dataframe tbody tr th {\n",
       "        vertical-align: top;\n",
       "    }\n",
       "\n",
       "    .dataframe thead th {\n",
       "        text-align: right;\n",
       "    }\n",
       "</style>\n",
       "<table border=\"1\" class=\"dataframe\">\n",
       "  <thead>\n",
       "    <tr style=\"text-align: right;\">\n",
       "      <th></th>\n",
       "      <th>Workclass</th>\n",
       "      <th>Education</th>\n",
       "      <th>MaritalStatus</th>\n",
       "      <th>Job</th>\n",
       "      <th>Family</th>\n",
       "      <th>Race</th>\n",
       "      <th>NativeCountry</th>\n",
       "    </tr>\n",
       "  </thead>\n",
       "  <tbody>\n",
       "    <tr>\n",
       "      <th>0</th>\n",
       "      <td>State-gov</td>\n",
       "      <td>Bachelors</td>\n",
       "      <td>Never-married</td>\n",
       "      <td>Adm-clerical</td>\n",
       "      <td>Not-in-family</td>\n",
       "      <td>White</td>\n",
       "      <td>United-States</td>\n",
       "    </tr>\n",
       "    <tr>\n",
       "      <th>1</th>\n",
       "      <td>Self-emp-not-inc</td>\n",
       "      <td>Bachelors</td>\n",
       "      <td>Married-civ-spouse</td>\n",
       "      <td>Exec-managerial</td>\n",
       "      <td>Husband</td>\n",
       "      <td>White</td>\n",
       "      <td>United-States</td>\n",
       "    </tr>\n",
       "    <tr>\n",
       "      <th>2</th>\n",
       "      <td>Private</td>\n",
       "      <td>HS-grad</td>\n",
       "      <td>Divorced</td>\n",
       "      <td>Handlers-cleaners</td>\n",
       "      <td>Not-in-family</td>\n",
       "      <td>White</td>\n",
       "      <td>United-States</td>\n",
       "    </tr>\n",
       "    <tr>\n",
       "      <th>3</th>\n",
       "      <td>Private</td>\n",
       "      <td>11th</td>\n",
       "      <td>Married-civ-spouse</td>\n",
       "      <td>Handlers-cleaners</td>\n",
       "      <td>Husband</td>\n",
       "      <td>Black</td>\n",
       "      <td>United-States</td>\n",
       "    </tr>\n",
       "    <tr>\n",
       "      <th>4</th>\n",
       "      <td>Private</td>\n",
       "      <td>Bachelors</td>\n",
       "      <td>Married-civ-spouse</td>\n",
       "      <td>Prof-specialty</td>\n",
       "      <td>Wife</td>\n",
       "      <td>Black</td>\n",
       "      <td>Cuba</td>\n",
       "    </tr>\n",
       "  </tbody>\n",
       "</table>\n",
       "</div>"
      ],
      "text/plain": [
       "           Workclass  Education        MaritalStatus                 Job  \\\n",
       "0          State-gov  Bachelors        Never-married        Adm-clerical   \n",
       "1   Self-emp-not-inc  Bachelors   Married-civ-spouse     Exec-managerial   \n",
       "2            Private    HS-grad             Divorced   Handlers-cleaners   \n",
       "3            Private       11th   Married-civ-spouse   Handlers-cleaners   \n",
       "4            Private  Bachelors   Married-civ-spouse      Prof-specialty   \n",
       "\n",
       "           Family    Race   NativeCountry  \n",
       "0   Not-in-family   White   United-States  \n",
       "1         Husband   White   United-States  \n",
       "2   Not-in-family   White   United-States  \n",
       "3         Husband   Black   United-States  \n",
       "4            Wife   Black            Cuba  "
      ]
     },
     "execution_count": 46,
     "metadata": {},
     "output_type": "execute_result"
    }
   ],
   "source": [
    "data_[Cat_cols].head()"
   ]
  },
  {
   "cell_type": "code",
   "execution_count": 43,
   "metadata": {},
   "outputs": [
    {
     "data": {
      "text/html": [
       "<div>\n",
       "<style scoped>\n",
       "    .dataframe tbody tr th:only-of-type {\n",
       "        vertical-align: middle;\n",
       "    }\n",
       "\n",
       "    .dataframe tbody tr th {\n",
       "        vertical-align: top;\n",
       "    }\n",
       "\n",
       "    .dataframe thead th {\n",
       "        text-align: right;\n",
       "    }\n",
       "</style>\n",
       "<table border=\"1\" class=\"dataframe\">\n",
       "  <thead>\n",
       "    <tr style=\"text-align: right;\">\n",
       "      <th></th>\n",
       "      <th>Workclass_ ?</th>\n",
       "      <th>Workclass_ Federal-gov</th>\n",
       "      <th>Workclass_ Local-gov</th>\n",
       "      <th>Workclass_ Never-worked</th>\n",
       "      <th>Workclass_ Private</th>\n",
       "      <th>Workclass_ Self-emp-inc</th>\n",
       "      <th>Workclass_ Self-emp-not-inc</th>\n",
       "      <th>Workclass_ State-gov</th>\n",
       "      <th>Workclass_ Without-pay</th>\n",
       "      <th>Education_ 10th</th>\n",
       "      <th>...</th>\n",
       "      <th>NativeCountry_ Portugal</th>\n",
       "      <th>NativeCountry_ Puerto-Rico</th>\n",
       "      <th>NativeCountry_ Scotland</th>\n",
       "      <th>NativeCountry_ South</th>\n",
       "      <th>NativeCountry_ Taiwan</th>\n",
       "      <th>NativeCountry_ Thailand</th>\n",
       "      <th>NativeCountry_ Trinadad&amp;Tobago</th>\n",
       "      <th>NativeCountry_ United-States</th>\n",
       "      <th>NativeCountry_ Vietnam</th>\n",
       "      <th>NativeCountry_ Yugoslavia</th>\n",
       "    </tr>\n",
       "  </thead>\n",
       "  <tbody>\n",
       "    <tr>\n",
       "      <th>16276</th>\n",
       "      <td>0</td>\n",
       "      <td>0</td>\n",
       "      <td>0</td>\n",
       "      <td>0</td>\n",
       "      <td>1</td>\n",
       "      <td>0</td>\n",
       "      <td>0</td>\n",
       "      <td>0</td>\n",
       "      <td>0</td>\n",
       "      <td>0</td>\n",
       "      <td>...</td>\n",
       "      <td>0</td>\n",
       "      <td>0</td>\n",
       "      <td>0</td>\n",
       "      <td>0</td>\n",
       "      <td>0</td>\n",
       "      <td>0</td>\n",
       "      <td>0</td>\n",
       "      <td>1</td>\n",
       "      <td>0</td>\n",
       "      <td>0</td>\n",
       "    </tr>\n",
       "    <tr>\n",
       "      <th>16277</th>\n",
       "      <td>1</td>\n",
       "      <td>0</td>\n",
       "      <td>0</td>\n",
       "      <td>0</td>\n",
       "      <td>0</td>\n",
       "      <td>0</td>\n",
       "      <td>0</td>\n",
       "      <td>0</td>\n",
       "      <td>0</td>\n",
       "      <td>0</td>\n",
       "      <td>...</td>\n",
       "      <td>0</td>\n",
       "      <td>0</td>\n",
       "      <td>0</td>\n",
       "      <td>0</td>\n",
       "      <td>0</td>\n",
       "      <td>0</td>\n",
       "      <td>0</td>\n",
       "      <td>1</td>\n",
       "      <td>0</td>\n",
       "      <td>0</td>\n",
       "    </tr>\n",
       "    <tr>\n",
       "      <th>16278</th>\n",
       "      <td>0</td>\n",
       "      <td>0</td>\n",
       "      <td>0</td>\n",
       "      <td>0</td>\n",
       "      <td>1</td>\n",
       "      <td>0</td>\n",
       "      <td>0</td>\n",
       "      <td>0</td>\n",
       "      <td>0</td>\n",
       "      <td>0</td>\n",
       "      <td>...</td>\n",
       "      <td>0</td>\n",
       "      <td>0</td>\n",
       "      <td>0</td>\n",
       "      <td>0</td>\n",
       "      <td>0</td>\n",
       "      <td>0</td>\n",
       "      <td>0</td>\n",
       "      <td>1</td>\n",
       "      <td>0</td>\n",
       "      <td>0</td>\n",
       "    </tr>\n",
       "    <tr>\n",
       "      <th>16279</th>\n",
       "      <td>0</td>\n",
       "      <td>0</td>\n",
       "      <td>0</td>\n",
       "      <td>0</td>\n",
       "      <td>1</td>\n",
       "      <td>0</td>\n",
       "      <td>0</td>\n",
       "      <td>0</td>\n",
       "      <td>0</td>\n",
       "      <td>0</td>\n",
       "      <td>...</td>\n",
       "      <td>0</td>\n",
       "      <td>0</td>\n",
       "      <td>0</td>\n",
       "      <td>0</td>\n",
       "      <td>0</td>\n",
       "      <td>0</td>\n",
       "      <td>0</td>\n",
       "      <td>1</td>\n",
       "      <td>0</td>\n",
       "      <td>0</td>\n",
       "    </tr>\n",
       "    <tr>\n",
       "      <th>16280</th>\n",
       "      <td>0</td>\n",
       "      <td>0</td>\n",
       "      <td>0</td>\n",
       "      <td>0</td>\n",
       "      <td>0</td>\n",
       "      <td>1</td>\n",
       "      <td>0</td>\n",
       "      <td>0</td>\n",
       "      <td>0</td>\n",
       "      <td>0</td>\n",
       "      <td>...</td>\n",
       "      <td>0</td>\n",
       "      <td>0</td>\n",
       "      <td>0</td>\n",
       "      <td>0</td>\n",
       "      <td>0</td>\n",
       "      <td>0</td>\n",
       "      <td>0</td>\n",
       "      <td>1</td>\n",
       "      <td>0</td>\n",
       "      <td>0</td>\n",
       "    </tr>\n",
       "  </tbody>\n",
       "</table>\n",
       "<p>5 rows × 99 columns</p>\n",
       "</div>"
      ],
      "text/plain": [
       "       Workclass_ ?  Workclass_ Federal-gov  Workclass_ Local-gov  \\\n",
       "16276             0                       0                     0   \n",
       "16277             1                       0                     0   \n",
       "16278             0                       0                     0   \n",
       "16279             0                       0                     0   \n",
       "16280             0                       0                     0   \n",
       "\n",
       "       Workclass_ Never-worked  Workclass_ Private  Workclass_ Self-emp-inc  \\\n",
       "16276                        0                   1                        0   \n",
       "16277                        0                   0                        0   \n",
       "16278                        0                   1                        0   \n",
       "16279                        0                   1                        0   \n",
       "16280                        0                   0                        1   \n",
       "\n",
       "       Workclass_ Self-emp-not-inc  Workclass_ State-gov  \\\n",
       "16276                            0                     0   \n",
       "16277                            0                     0   \n",
       "16278                            0                     0   \n",
       "16279                            0                     0   \n",
       "16280                            0                     0   \n",
       "\n",
       "       Workclass_ Without-pay  Education_ 10th            ...              \\\n",
       "16276                       0                0            ...               \n",
       "16277                       0                0            ...               \n",
       "16278                       0                0            ...               \n",
       "16279                       0                0            ...               \n",
       "16280                       0                0            ...               \n",
       "\n",
       "       NativeCountry_ Portugal  NativeCountry_ Puerto-Rico  \\\n",
       "16276                        0                           0   \n",
       "16277                        0                           0   \n",
       "16278                        0                           0   \n",
       "16279                        0                           0   \n",
       "16280                        0                           0   \n",
       "\n",
       "       NativeCountry_ Scotland  NativeCountry_ South  NativeCountry_ Taiwan  \\\n",
       "16276                        0                     0                      0   \n",
       "16277                        0                     0                      0   \n",
       "16278                        0                     0                      0   \n",
       "16279                        0                     0                      0   \n",
       "16280                        0                     0                      0   \n",
       "\n",
       "       NativeCountry_ Thailand  NativeCountry_ Trinadad&Tobago  \\\n",
       "16276                        0                               0   \n",
       "16277                        0                               0   \n",
       "16278                        0                               0   \n",
       "16279                        0                               0   \n",
       "16280                        0                               0   \n",
       "\n",
       "       NativeCountry_ United-States  NativeCountry_ Vietnam  \\\n",
       "16276                             1                       0   \n",
       "16277                             1                       0   \n",
       "16278                             1                       0   \n",
       "16279                             1                       0   \n",
       "16280                             1                       0   \n",
       "\n",
       "       NativeCountry_ Yugoslavia  \n",
       "16276                          0  \n",
       "16277                          0  \n",
       "16278                          0  \n",
       "16279                          0  \n",
       "16280                          0  \n",
       "\n",
       "[5 rows x 99 columns]"
      ]
     },
     "execution_count": 43,
     "metadata": {},
     "output_type": "execute_result"
    }
   ],
   "source": [
    "dfStrEncode = pd.get_dummies(data=data_[Cat_cols])\n",
    "dfStrEncode.astype('int32',copy=True)\n",
    "dfStrEncTest = pd.get_dummies(data=test_[CatTest_cols])\n",
    "dfStrEncTest.astype('int32',copy=True)\n",
    "dfStrEncTest.tail()"
   ]
  },
  {
   "cell_type": "code",
   "execution_count": 49,
   "metadata": {},
   "outputs": [],
   "source": [
    "#now that we have the categorical data in a new DF, let's remove those columns from data and test\n",
    "data_.drop(Cat_cols, axis=1, inplace=True)\n",
    "test_.drop(CatTest_cols,axis=1, inplace=True)"
   ]
  },
  {
   "cell_type": "code",
   "execution_count": 50,
   "metadata": {},
   "outputs": [],
   "source": [
    "#the test data is missing an entry for NativeCountry_ Holand-Netherlands, so I'll insert a column in test data with all zeros\n",
    "a = np.zeros(shape=(16281,1))\n",
    "dfHoland = pd.DataFrame(a,columns=['NativeCountry_ Holand-Netherlands'])"
   ]
  },
  {
   "cell_type": "code",
   "execution_count": 51,
   "metadata": {},
   "outputs": [
    {
     "data": {
      "text/plain": [
       "73"
      ]
     },
     "execution_count": 51,
     "metadata": {},
     "output_type": "execute_result"
    }
   ],
   "source": [
    "dfStrEncode.columns.get_loc('NativeCountry_ Holand-Netherlands')"
   ]
  },
  {
   "cell_type": "code",
   "execution_count": 52,
   "metadata": {},
   "outputs": [],
   "source": [
    "#not sure if column order is important for decision trees so I'm going to put them back in order data vs test\n",
    "temp1 = dfStrEncTest.iloc[:,0:73]\n",
    "temp2 = dfStrEncTest.iloc[:,73:]"
   ]
  },
  {
   "cell_type": "code",
   "execution_count": 53,
   "metadata": {},
   "outputs": [],
   "source": [
    "dfStrEncTest2 = pd.concat([temp1,dfHoland,temp2],axis=1)\n"
   ]
  },
  {
   "cell_type": "code",
   "execution_count": 63,
   "metadata": {},
   "outputs": [],
   "source": [
    "#deal with missing data/columns from missing data(?)\n",
    "dfStrEncTest2.rename(columns={\"NativeCountry_ ?\":\"NativeCountry_NoInfo\",\"Job_ ?\":\"Job_NoInfo\",'Workclass_ ?':\"Workclass_ NoInfo\"},inplace=True)\n",
    "dfStrEncode.rename(columns={\"NativeCountry_ ?\":\"NativeCountry_NoInfo\",\"Job_ ?\":\"Job_NoInfo\",'Workclass_ ?':\"Workclass_ NoInfo\"},inplace=True)"
   ]
  },
  {
   "cell_type": "code",
   "execution_count": 67,
   "metadata": {},
   "outputs": [
    {
     "data": {
      "text/html": [
       "<div>\n",
       "<style scoped>\n",
       "    .dataframe tbody tr th:only-of-type {\n",
       "        vertical-align: middle;\n",
       "    }\n",
       "\n",
       "    .dataframe tbody tr th {\n",
       "        vertical-align: top;\n",
       "    }\n",
       "\n",
       "    .dataframe thead th {\n",
       "        text-align: right;\n",
       "    }\n",
       "</style>\n",
       "<table border=\"1\" class=\"dataframe\">\n",
       "  <thead>\n",
       "    <tr style=\"text-align: right;\">\n",
       "      <th></th>\n",
       "      <th>Age</th>\n",
       "      <th>FinalWeight</th>\n",
       "      <th>EduNumber</th>\n",
       "      <th>CapitalGain</th>\n",
       "      <th>CapitalLoss</th>\n",
       "      <th>HrsWeek</th>\n",
       "    </tr>\n",
       "  </thead>\n",
       "  <tbody>\n",
       "    <tr>\n",
       "      <th>0</th>\n",
       "      <td>39</td>\n",
       "      <td>77516</td>\n",
       "      <td>13</td>\n",
       "      <td>2174</td>\n",
       "      <td>0</td>\n",
       "      <td>40</td>\n",
       "    </tr>\n",
       "    <tr>\n",
       "      <th>1</th>\n",
       "      <td>50</td>\n",
       "      <td>83311</td>\n",
       "      <td>13</td>\n",
       "      <td>0</td>\n",
       "      <td>0</td>\n",
       "      <td>13</td>\n",
       "    </tr>\n",
       "    <tr>\n",
       "      <th>2</th>\n",
       "      <td>38</td>\n",
       "      <td>215646</td>\n",
       "      <td>9</td>\n",
       "      <td>0</td>\n",
       "      <td>0</td>\n",
       "      <td>40</td>\n",
       "    </tr>\n",
       "    <tr>\n",
       "      <th>3</th>\n",
       "      <td>53</td>\n",
       "      <td>234721</td>\n",
       "      <td>7</td>\n",
       "      <td>0</td>\n",
       "      <td>0</td>\n",
       "      <td>40</td>\n",
       "    </tr>\n",
       "    <tr>\n",
       "      <th>4</th>\n",
       "      <td>28</td>\n",
       "      <td>338409</td>\n",
       "      <td>13</td>\n",
       "      <td>0</td>\n",
       "      <td>0</td>\n",
       "      <td>40</td>\n",
       "    </tr>\n",
       "  </tbody>\n",
       "</table>\n",
       "</div>"
      ],
      "text/plain": [
       "   Age  FinalWeight  EduNumber  CapitalGain  CapitalLoss  HrsWeek\n",
       "0   39        77516         13         2174            0       40\n",
       "1   50        83311         13            0            0       13\n",
       "2   38       215646          9            0            0       40\n",
       "3   53       234721          7            0            0       40\n",
       "4   28       338409         13            0            0       40"
      ]
     },
     "execution_count": 67,
     "metadata": {},
     "output_type": "execute_result"
    }
   ],
   "source": [
    "data_.head()"
   ]
  },
  {
   "cell_type": "code",
   "execution_count": 68,
   "metadata": {},
   "outputs": [],
   "source": [
    "#let's normalize the numerical data\n",
    "from sklearn.preprocessing import MinMaxScaler\n",
    "\n",
    "scaler = MinMaxScaler() # default=(0, 1)\n",
    "data2 =scaler.fit_transform(data_)\n",
    "test2 =scaler.fit_transform(test_)"
   ]
  },
  {
   "cell_type": "code",
   "execution_count": 71,
   "metadata": {},
   "outputs": [],
   "source": [
    "data3 = pd.DataFrame(data2,columns=data_.columns)\n",
    "test3 = pd.DataFrame(test2,columns=test_.columns)"
   ]
  },
  {
   "cell_type": "code",
   "execution_count": 73,
   "metadata": {},
   "outputs": [
    {
     "data": {
      "text/html": [
       "<div>\n",
       "<style scoped>\n",
       "    .dataframe tbody tr th:only-of-type {\n",
       "        vertical-align: middle;\n",
       "    }\n",
       "\n",
       "    .dataframe tbody tr th {\n",
       "        vertical-align: top;\n",
       "    }\n",
       "\n",
       "    .dataframe thead th {\n",
       "        text-align: right;\n",
       "    }\n",
       "</style>\n",
       "<table border=\"1\" class=\"dataframe\">\n",
       "  <thead>\n",
       "    <tr style=\"text-align: right;\">\n",
       "      <th></th>\n",
       "      <th>Age</th>\n",
       "      <th>FinalWeight</th>\n",
       "      <th>EduNumber</th>\n",
       "      <th>CapitalGain</th>\n",
       "      <th>CapitalLoss</th>\n",
       "      <th>HrsWeek</th>\n",
       "    </tr>\n",
       "  </thead>\n",
       "  <tbody>\n",
       "    <tr>\n",
       "      <th>0</th>\n",
       "      <td>0.109589</td>\n",
       "      <td>0.144430</td>\n",
       "      <td>0.400000</td>\n",
       "      <td>0.000000</td>\n",
       "      <td>0.0</td>\n",
       "      <td>0.397959</td>\n",
       "    </tr>\n",
       "    <tr>\n",
       "      <th>1</th>\n",
       "      <td>0.287671</td>\n",
       "      <td>0.051677</td>\n",
       "      <td>0.533333</td>\n",
       "      <td>0.000000</td>\n",
       "      <td>0.0</td>\n",
       "      <td>0.500000</td>\n",
       "    </tr>\n",
       "    <tr>\n",
       "      <th>2</th>\n",
       "      <td>0.150685</td>\n",
       "      <td>0.219011</td>\n",
       "      <td>0.733333</td>\n",
       "      <td>0.000000</td>\n",
       "      <td>0.0</td>\n",
       "      <td>0.397959</td>\n",
       "    </tr>\n",
       "    <tr>\n",
       "      <th>3</th>\n",
       "      <td>0.369863</td>\n",
       "      <td>0.099418</td>\n",
       "      <td>0.600000</td>\n",
       "      <td>0.076881</td>\n",
       "      <td>0.0</td>\n",
       "      <td>0.397959</td>\n",
       "    </tr>\n",
       "    <tr>\n",
       "      <th>4</th>\n",
       "      <td>0.013699</td>\n",
       "      <td>0.060942</td>\n",
       "      <td>0.600000</td>\n",
       "      <td>0.000000</td>\n",
       "      <td>0.0</td>\n",
       "      <td>0.295918</td>\n",
       "    </tr>\n",
       "  </tbody>\n",
       "</table>\n",
       "</div>"
      ],
      "text/plain": [
       "        Age  FinalWeight  EduNumber  CapitalGain  CapitalLoss   HrsWeek\n",
       "0  0.109589     0.144430   0.400000     0.000000          0.0  0.397959\n",
       "1  0.287671     0.051677   0.533333     0.000000          0.0  0.500000\n",
       "2  0.150685     0.219011   0.733333     0.000000          0.0  0.397959\n",
       "3  0.369863     0.099418   0.600000     0.076881          0.0  0.397959\n",
       "4  0.013699     0.060942   0.600000     0.000000          0.0  0.295918"
      ]
     },
     "execution_count": 73,
     "metadata": {},
     "output_type": "execute_result"
    }
   ],
   "source": [
    "test3.head()"
   ]
  },
  {
   "cell_type": "code",
   "execution_count": 74,
   "metadata": {},
   "outputs": [],
   "source": [
    "#combine dataframes and assign to testing variable\n",
    "x_train = pd.concat([data3,dfStrEncode,dfGender], axis=1)\n",
    "x_test = pd.concat([test3,dfStrEncTest2,dfGenTest], axis=1)\n",
    "y_train = dfSalary\n",
    "y_test = dfSalTest"
   ]
  },
  {
   "cell_type": "code",
   "execution_count": 80,
   "metadata": {},
   "outputs": [
    {
     "data": {
      "text/html": [
       "<div>\n",
       "<style scoped>\n",
       "    .dataframe tbody tr th:only-of-type {\n",
       "        vertical-align: middle;\n",
       "    }\n",
       "\n",
       "    .dataframe tbody tr th {\n",
       "        vertical-align: top;\n",
       "    }\n",
       "\n",
       "    .dataframe thead th {\n",
       "        text-align: right;\n",
       "    }\n",
       "</style>\n",
       "<table border=\"1\" class=\"dataframe\">\n",
       "  <thead>\n",
       "    <tr style=\"text-align: right;\">\n",
       "      <th></th>\n",
       "      <th>Age</th>\n",
       "      <th>FinalWeight</th>\n",
       "      <th>EduNumber</th>\n",
       "      <th>CapitalGain</th>\n",
       "      <th>CapitalLoss</th>\n",
       "      <th>HrsWeek</th>\n",
       "      <th>Workclass_ NoInfo</th>\n",
       "      <th>Workclass_ Federal-gov</th>\n",
       "      <th>Workclass_ Local-gov</th>\n",
       "      <th>Workclass_ Never-worked</th>\n",
       "      <th>...</th>\n",
       "      <th>NativeCountry_ Puerto-Rico</th>\n",
       "      <th>NativeCountry_ Scotland</th>\n",
       "      <th>NativeCountry_ South</th>\n",
       "      <th>NativeCountry_ Taiwan</th>\n",
       "      <th>NativeCountry_ Thailand</th>\n",
       "      <th>NativeCountry_ Trinadad&amp;Tobago</th>\n",
       "      <th>NativeCountry_ United-States</th>\n",
       "      <th>NativeCountry_ Vietnam</th>\n",
       "      <th>NativeCountry_ Yugoslavia</th>\n",
       "      <th>Gender</th>\n",
       "    </tr>\n",
       "  </thead>\n",
       "  <tbody>\n",
       "    <tr>\n",
       "      <th>0</th>\n",
       "      <td>0.301370</td>\n",
       "      <td>0.044302</td>\n",
       "      <td>0.800000</td>\n",
       "      <td>0.02174</td>\n",
       "      <td>0.0</td>\n",
       "      <td>0.397959</td>\n",
       "      <td>0</td>\n",
       "      <td>0</td>\n",
       "      <td>0</td>\n",
       "      <td>0</td>\n",
       "      <td>...</td>\n",
       "      <td>0</td>\n",
       "      <td>0</td>\n",
       "      <td>0</td>\n",
       "      <td>0</td>\n",
       "      <td>0</td>\n",
       "      <td>0</td>\n",
       "      <td>1</td>\n",
       "      <td>0</td>\n",
       "      <td>0</td>\n",
       "      <td>1</td>\n",
       "    </tr>\n",
       "    <tr>\n",
       "      <th>1</th>\n",
       "      <td>0.452055</td>\n",
       "      <td>0.048238</td>\n",
       "      <td>0.800000</td>\n",
       "      <td>0.00000</td>\n",
       "      <td>0.0</td>\n",
       "      <td>0.122449</td>\n",
       "      <td>0</td>\n",
       "      <td>0</td>\n",
       "      <td>0</td>\n",
       "      <td>0</td>\n",
       "      <td>...</td>\n",
       "      <td>0</td>\n",
       "      <td>0</td>\n",
       "      <td>0</td>\n",
       "      <td>0</td>\n",
       "      <td>0</td>\n",
       "      <td>0</td>\n",
       "      <td>1</td>\n",
       "      <td>0</td>\n",
       "      <td>0</td>\n",
       "      <td>1</td>\n",
       "    </tr>\n",
       "    <tr>\n",
       "      <th>2</th>\n",
       "      <td>0.287671</td>\n",
       "      <td>0.138113</td>\n",
       "      <td>0.533333</td>\n",
       "      <td>0.00000</td>\n",
       "      <td>0.0</td>\n",
       "      <td>0.397959</td>\n",
       "      <td>0</td>\n",
       "      <td>0</td>\n",
       "      <td>0</td>\n",
       "      <td>0</td>\n",
       "      <td>...</td>\n",
       "      <td>0</td>\n",
       "      <td>0</td>\n",
       "      <td>0</td>\n",
       "      <td>0</td>\n",
       "      <td>0</td>\n",
       "      <td>0</td>\n",
       "      <td>1</td>\n",
       "      <td>0</td>\n",
       "      <td>0</td>\n",
       "      <td>1</td>\n",
       "    </tr>\n",
       "    <tr>\n",
       "      <th>3</th>\n",
       "      <td>0.493151</td>\n",
       "      <td>0.151068</td>\n",
       "      <td>0.400000</td>\n",
       "      <td>0.00000</td>\n",
       "      <td>0.0</td>\n",
       "      <td>0.397959</td>\n",
       "      <td>0</td>\n",
       "      <td>0</td>\n",
       "      <td>0</td>\n",
       "      <td>0</td>\n",
       "      <td>...</td>\n",
       "      <td>0</td>\n",
       "      <td>0</td>\n",
       "      <td>0</td>\n",
       "      <td>0</td>\n",
       "      <td>0</td>\n",
       "      <td>0</td>\n",
       "      <td>1</td>\n",
       "      <td>0</td>\n",
       "      <td>0</td>\n",
       "      <td>1</td>\n",
       "    </tr>\n",
       "    <tr>\n",
       "      <th>4</th>\n",
       "      <td>0.150685</td>\n",
       "      <td>0.221488</td>\n",
       "      <td>0.800000</td>\n",
       "      <td>0.00000</td>\n",
       "      <td>0.0</td>\n",
       "      <td>0.397959</td>\n",
       "      <td>0</td>\n",
       "      <td>0</td>\n",
       "      <td>0</td>\n",
       "      <td>0</td>\n",
       "      <td>...</td>\n",
       "      <td>0</td>\n",
       "      <td>0</td>\n",
       "      <td>0</td>\n",
       "      <td>0</td>\n",
       "      <td>0</td>\n",
       "      <td>0</td>\n",
       "      <td>0</td>\n",
       "      <td>0</td>\n",
       "      <td>0</td>\n",
       "      <td>0</td>\n",
       "    </tr>\n",
       "  </tbody>\n",
       "</table>\n",
       "<p>5 rows × 107 columns</p>\n",
       "</div>"
      ],
      "text/plain": [
       "        Age  FinalWeight  EduNumber  CapitalGain  CapitalLoss   HrsWeek  \\\n",
       "0  0.301370     0.044302   0.800000      0.02174          0.0  0.397959   \n",
       "1  0.452055     0.048238   0.800000      0.00000          0.0  0.122449   \n",
       "2  0.287671     0.138113   0.533333      0.00000          0.0  0.397959   \n",
       "3  0.493151     0.151068   0.400000      0.00000          0.0  0.397959   \n",
       "4  0.150685     0.221488   0.800000      0.00000          0.0  0.397959   \n",
       "\n",
       "   Workclass_ NoInfo  Workclass_ Federal-gov  Workclass_ Local-gov  \\\n",
       "0                  0                       0                     0   \n",
       "1                  0                       0                     0   \n",
       "2                  0                       0                     0   \n",
       "3                  0                       0                     0   \n",
       "4                  0                       0                     0   \n",
       "\n",
       "   Workclass_ Never-worked   ...    NativeCountry_ Puerto-Rico  \\\n",
       "0                        0   ...                             0   \n",
       "1                        0   ...                             0   \n",
       "2                        0   ...                             0   \n",
       "3                        0   ...                             0   \n",
       "4                        0   ...                             0   \n",
       "\n",
       "   NativeCountry_ Scotland  NativeCountry_ South  NativeCountry_ Taiwan  \\\n",
       "0                        0                     0                      0   \n",
       "1                        0                     0                      0   \n",
       "2                        0                     0                      0   \n",
       "3                        0                     0                      0   \n",
       "4                        0                     0                      0   \n",
       "\n",
       "   NativeCountry_ Thailand  NativeCountry_ Trinadad&Tobago  \\\n",
       "0                        0                               0   \n",
       "1                        0                               0   \n",
       "2                        0                               0   \n",
       "3                        0                               0   \n",
       "4                        0                               0   \n",
       "\n",
       "   NativeCountry_ United-States  NativeCountry_ Vietnam  \\\n",
       "0                             1                       0   \n",
       "1                             1                       0   \n",
       "2                             1                       0   \n",
       "3                             1                       0   \n",
       "4                             0                       0   \n",
       "\n",
       "   NativeCountry_ Yugoslavia  Gender  \n",
       "0                          0       1  \n",
       "1                          0       1  \n",
       "2                          0       1  \n",
       "3                          0       1  \n",
       "4                          0       0  \n",
       "\n",
       "[5 rows x 107 columns]"
      ]
     },
     "execution_count": 80,
     "metadata": {},
     "output_type": "execute_result"
    }
   ],
   "source": [
    "x_train.head()"
   ]
  },
  {
   "cell_type": "code",
   "execution_count": 81,
   "metadata": {},
   "outputs": [
    {
     "name": "stderr",
     "output_type": "stream",
     "text": [
      "C:\\ProgramData\\Anaconda3\\lib\\site-packages\\sklearn\\ensemble\\weight_boosting.py:29: DeprecationWarning: numpy.core.umath_tests is an internal NumPy module and should not be imported. It will be removed in a future NumPy release.\n",
      "  from numpy.core.umath_tests import inner1d\n"
     ]
    }
   ],
   "source": [
    "from sklearn.tree import DecisionTreeClassifier\n",
    "from sklearn.linear_model import LogisticRegression\n",
    "from sklearn.ensemble import RandomForestClassifier\n",
    "from sklearn.neighbors import KNeighborsClassifier\n",
    "from sklearn.naive_bayes import GaussianNB"
   ]
  },
  {
   "cell_type": "code",
   "execution_count": 82,
   "metadata": {},
   "outputs": [],
   "source": [
    "m1=DecisionTreeClassifier()\n",
    "m2=GaussianNB()\n",
    "m3=RandomForestClassifier()\n",
    "m4=LogisticRegression()"
   ]
  },
  {
   "cell_type": "code",
   "execution_count": 88,
   "metadata": {},
   "outputs": [
    {
     "name": "stdout",
     "output_type": "stream",
     "text": [
      "0.23278668386462747\n",
      "0.23278668386462747\n"
     ]
    }
   ],
   "source": [
    "#Decision Tree\n",
    "m1.fit(x_train,y_train)\n",
    "print(recall_score(y_test,m1.predict(x_test)))\n",
    "print(accuracy_score(y_test,m1.predict(x_test)))"
   ]
  },
  {
   "cell_type": "code",
   "execution_count": 89,
   "metadata": {},
   "outputs": [
    {
     "name": "stdout",
     "output_type": "stream",
     "text": [
      "0.6702905226951661\n",
      "0.6702905226951661\n"
     ]
    }
   ],
   "source": [
    "#NB\n",
    "m2.fit(x_train,y_train)\n",
    "print(recall_score(y_test,m2.predict(x_test)))\n",
    "print(accuracy_score(y_test,m2.predict(x_test)))"
   ]
  },
  {
   "cell_type": "code",
   "execution_count": 91,
   "metadata": {},
   "outputs": [
    {
     "name": "stdout",
     "output_type": "stream",
     "text": [
      "0.18543087033965971\n",
      "0.18543087033965971\n"
     ]
    }
   ],
   "source": [
    "#Random Forest\n",
    "m3.fit(x_train,y_train)\n",
    "print(recall_score(y_test,m3.predict(x_test)))\n",
    "print(accuracy_score(y_test,m3.predict(x_test)))"
   ]
  },
  {
   "cell_type": "markdown",
   "metadata": {},
   "source": [
    "So these scores are really bad. Naive Bayes is the best single method.  Since these are so bad, let's pull out the important features and see if we can't improve them."
   ]
  },
  {
   "cell_type": "code",
   "execution_count": 115,
   "metadata": {},
   "outputs": [
    {
     "data": {
      "text/plain": [
       "Index(['Age', 'FinalWeight', 'EduNumber', 'CapitalGain', 'CapitalLoss',\n",
       "       'HrsWeek', 'Workclass_ NoInfo', 'Workclass_ Federal-gov',\n",
       "       'Workclass_ Local-gov', 'Workclass_ Private', 'Workclass_ Self-emp-inc',\n",
       "       'Workclass_ Self-emp-not-inc', 'Workclass_ State-gov', 'Education_10th',\n",
       "       'Education_11th', 'Education_12th', 'Education_1st-4th',\n",
       "       'Education_5th-6th', 'Education_7th-8th', 'Education_9th',\n",
       "       'Education_Assoc-acdm', 'Education_Assoc-voc', 'Education_Bachelors',\n",
       "       'Education_Doctorate', 'Education_HS-grad', 'Education_Masters',\n",
       "       'Education_Prof-school', 'Education_Some-college',\n",
       "       'MaritalStatus_ Divorced', 'MaritalStatus_ Married-AF-spouse',\n",
       "       'MaritalStatus_ Married-civ-spouse',\n",
       "       'MaritalStatus_ Married-spouse-absent', 'MaritalStatus_ Never-married',\n",
       "       'MaritalStatus_ Separated', 'MaritalStatus_ Widowed', 'Job_NoInfo',\n",
       "       'Job_ Adm-clerical', 'Job_ Craft-repair', 'Job_ Exec-managerial',\n",
       "       'Job_ Farming-fishing', 'Job_ Handlers-cleaners',\n",
       "       'Job_ Machine-op-inspct', 'Job_ Other-service', 'Job_ Prof-specialty',\n",
       "       'Job_ Protective-serv', 'Job_ Sales', 'Job_ Tech-support',\n",
       "       'Job_ Transport-moving', 'Family_ Husband', 'Family_ Not-in-family',\n",
       "       'Family_ Other-relative', 'Family_ Own-child', 'Family_ Unmarried',\n",
       "       'Family_ Wife', 'Race_ Amer-Indian-Eskimo', 'Race_ Asian-Pac-Islander',\n",
       "       'Race_ Black', 'Race_ Other', 'Race_ White', 'NativeCountry_NoInfo',\n",
       "       'NativeCountry_ Cambodia', 'NativeCountry_ Canada',\n",
       "       'NativeCountry_ China', 'NativeCountry_ Columbia',\n",
       "       'NativeCountry_ Cuba', 'NativeCountry_ Dominican-Republic',\n",
       "       'NativeCountry_ El-Salvador', 'NativeCountry_ England',\n",
       "       'NativeCountry_ France', 'NativeCountry_ Germany',\n",
       "       'NativeCountry_ Greece', 'NativeCountry_ Guatemala',\n",
       "       'NativeCountry_ Haiti', 'NativeCountry_ Hong', 'NativeCountry_ Hungary',\n",
       "       'NativeCountry_ India', 'NativeCountry_ Ireland',\n",
       "       'NativeCountry_ Italy', 'NativeCountry_ Jamaica',\n",
       "       'NativeCountry_ Japan', 'NativeCountry_ Laos', 'NativeCountry_ Mexico',\n",
       "       'NativeCountry_ Nicaragua', 'NativeCountry_ Philippines',\n",
       "       'NativeCountry_ Poland', 'NativeCountry_ Portugal',\n",
       "       'NativeCountry_ Puerto-Rico', 'NativeCountry_ South',\n",
       "       'NativeCountry_ Taiwan', 'NativeCountry_ Thailand',\n",
       "       'NativeCountry_ Trinadad&Tobago', 'NativeCountry_ United-States',\n",
       "       'NativeCountry_ Vietnam', 'NativeCountry_ Yugoslavia', 'Gender'],\n",
       "      dtype='object')"
      ]
     },
     "execution_count": 115,
     "metadata": {},
     "output_type": "execute_result"
    }
   ],
   "source": [
    "x_train.columns[np.where(m1.feature_importances_!=0)]"
   ]
  },
  {
   "cell_type": "markdown",
   "metadata": {},
   "source": [
    "95 out of 100 columns are important.  Not very helpful.  "
   ]
  },
  {
   "cell_type": "code",
   "execution_count": 120,
   "metadata": {},
   "outputs": [],
   "source": [
    "#let's try ensemble\n",
    "Ensemble_Train = pd.DataFrame({'DT':list(m1.predict(x_train)),'NB':list(m2.predict(x_train)),'RF':list(m3.predict(x_train)),'Actual':list(y_train)})\n",
    "Ensemble_Test = pd.DataFrame({'DT':list(m1.predict(x_test)),'NB':list(m2.predict(x_test)),'RF':list(m3.predict(x_test)),'Actual':list(y_test)})"
   ]
  },
  {
   "cell_type": "code",
   "execution_count": 125,
   "metadata": {},
   "outputs": [],
   "source": [
    "EnsembleXTrain = Ensemble_Train.iloc[:,:2].values\n",
    "EnsembleYTrain = Ensemble_Train.iloc[:,3].values"
   ]
  },
  {
   "cell_type": "code",
   "execution_count": 126,
   "metadata": {},
   "outputs": [],
   "source": [
    "EnsembleXTest = Ensemble_Test.iloc[:,:2].values\n",
    "EnsembleYTest = Ensemble_Test.iloc[:,3].values"
   ]
  },
  {
   "cell_type": "code",
   "execution_count": 127,
   "metadata": {},
   "outputs": [
    {
     "name": "stdout",
     "output_type": "stream",
     "text": [
      "0.23278668386462747\n",
      "0.23278668386462747\n"
     ]
    }
   ],
   "source": [
    "m4.fit(EnsembleXTrain,EnsembleYTrain)\n",
    "print(accuracy_score(EnsembleYTest,m4.predict(EnsembleXTest)))\n",
    "print(recall_score(EnsembleYTest,m4.predict(EnsembleXTest)))"
   ]
  },
  {
   "cell_type": "markdown",
   "metadata": {},
   "source": [
    "So an ensemble Logistic Regression didn't help that much either.  I think the test data is just a bad subset.  \n",
    "Naive Bayes was the best algorythm for this data.  The most important features varied depending on how you look at it."
   ]
  },
  {
   "cell_type": "code",
   "execution_count": 128,
   "metadata": {},
   "outputs": [],
   "source": [
    "#lets try a bagging KNN for fun\n",
    "from sklearn.ensemble import BaggingClassifier\n",
    "from sklearn.neighbors import KNeighborsClassifier\n",
    "bagging = BaggingClassifier(KNeighborsClassifier(), n_estimators=10)"
   ]
  },
  {
   "cell_type": "code",
   "execution_count": 129,
   "metadata": {},
   "outputs": [],
   "source": [
    "bag_knn = BaggingClassifier(KNeighborsClassifier(n_neighbors=5),\n",
    "n_estimators=10, max_samples=0.5,\n",
    "bootstrap=True, random_state=3)"
   ]
  },
  {
   "cell_type": "code",
   "execution_count": 130,
   "metadata": {},
   "outputs": [
    {
     "data": {
      "text/plain": [
       "0.19839076223819177"
      ]
     },
     "execution_count": 130,
     "metadata": {},
     "output_type": "execute_result"
    }
   ],
   "source": [
    "bag_knn.fit(x_train, y_train)\n",
    "bag_knn.score(x_test, y_test)\n",
    "#accuracy went from 23% to 31% so that's a good improvement"
   ]
  },
  {
   "cell_type": "markdown",
   "metadata": {},
   "source": [
    "No luck with BagKNN either."
   ]
  },
  {
   "cell_type": "code",
   "execution_count": 131,
   "metadata": {},
   "outputs": [],
   "source": [
    "#Let's try xgboost\n",
    "import xgboost as xgb"
   ]
  },
  {
   "cell_type": "code",
   "execution_count": 132,
   "metadata": {},
   "outputs": [],
   "source": [
    "xg_reg = xgb.XGBRegressor(objective ='reg:linear', learning_rate = 0.1, max_depth = 5, alpha = 10, n_estimators = 10)"
   ]
  },
  {
   "cell_type": "code",
   "execution_count": 133,
   "metadata": {},
   "outputs": [],
   "source": [
    "xg_reg.fit(x_train.values,y_train.values)\n",
    "preds = xg_reg.predict(x_test.values)"
   ]
  },
  {
   "cell_type": "code",
   "execution_count": 134,
   "metadata": {},
   "outputs": [
    {
     "name": "stdout",
     "output_type": "stream",
     "text": [
      "RMSE: 0.694335\n"
     ]
    }
   ],
   "source": [
    "from sklearn.metrics import mean_squared_error\n",
    "rmse = np.sqrt(mean_squared_error(y_test, preds))\n",
    "print(\"RMSE: %f\" % (rmse))"
   ]
  }
 ],
 "metadata": {
  "kernelspec": {
   "display_name": "Python 3",
   "language": "python",
   "name": "python3"
  },
  "language_info": {
   "codemirror_mode": {
    "name": "ipython",
    "version": 3
   },
   "file_extension": ".py",
   "mimetype": "text/x-python",
   "name": "python",
   "nbconvert_exporter": "python",
   "pygments_lexer": "ipython3",
   "version": "3.7.0"
  }
 },
 "nbformat": 4,
 "nbformat_minor": 2
}
